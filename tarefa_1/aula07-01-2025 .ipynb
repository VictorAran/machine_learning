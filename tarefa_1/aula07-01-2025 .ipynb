{
 "cells": [
  {
   "cell_type": "code",
   "execution_count": 1,
   "id": "2119cb0c-8ada-473b-9ad6-53b8f4284b4c",
   "metadata": {},
   "outputs": [],
   "source": [
    "import numpy as np\n",
    "import pandas as pd"
   ]
  },
  {
   "cell_type": "code",
   "execution_count": 3,
   "id": "4af84659-269b-4f7f-8d77-fa4fa45bc778",
   "metadata": {},
   "outputs": [],
   "source": [
    "from sklearn.datasets import load_breast_cancer\n",
    "from sklearn.model_selection import train_test_split"
   ]
  },
  {
   "cell_type": "code",
   "execution_count": 4,
   "id": "a154b69b-7e5d-4c0e-83c4-e55c1347ea12",
   "metadata": {},
   "outputs": [],
   "source": [
    "from sklearn.naive_bayes import GaussianNB, BernoulliNB, MultinomialNB\n",
    "from sklearn.svm import SVC\n"
   ]
  },
  {
   "cell_type": "code",
   "execution_count": 5,
   "id": "c472f8e2-fb0b-4bbf-aec7-6b2881a07353",
   "metadata": {},
   "outputs": [],
   "source": [
    "from sklearn.metrics import accuracy_score, classification_report, confusion_matrix\n"
   ]
  },
  {
   "cell_type": "code",
   "execution_count": 6,
   "id": "ab3d7b7e-96a7-4fa9-8a3d-b96b35301ffa",
   "metadata": {},
   "outputs": [],
   "source": [
    "import seaborn as sns\n",
    "import matplotlib.pyplot as plt"
   ]
  },
  {
   "cell_type": "code",
   "execution_count": 7,
   "id": "ea1844ce-29a5-4289-958a-1b22342c732b",
   "metadata": {},
   "outputs": [],
   "source": [
    "breast_cancer = load_breast_cancer(as_frame=True)\n",
    "df_breast = breast_cancer.frame"
   ]
  },
  {
   "cell_type": "code",
   "execution_count": 8,
   "id": "6cdea960-cf2b-4056-bb1a-0aefe981aaac",
   "metadata": {},
   "outputs": [],
   "source": [
    "X_bc = df_breast.drop(\"target\", axis=1)\n",
    "y_bc = df_breast[\"target\"]"
   ]
  },
  {
   "cell_type": "code",
   "execution_count": 9,
   "id": "010719b4-e11a-431c-a524-66b756cd6aa2",
   "metadata": {},
   "outputs": [],
   "source": [
    "X_train_bc, X_test_bc, y_train_bc, y_test_bc = train_test_split(\n",
    "    X_bc, y_bc, test_size = 0.20, random_state = 0)"
   ]
  },
  {
   "cell_type": "code",
   "execution_count": 10,
   "id": "1063f5ef-8158-4e28-9445-c8dcbbe57648",
   "metadata": {},
   "outputs": [],
   "source": [
    "modelos_nb = {\n",
    "    \"GaussianNB\": GaussianNB(),\n",
    "    \"BernoulliNB\": BernoulliNB(),\n",
    "    \"MultinomialNB\": MultinomialNB()\n",
    "}"
   ]
  },
  {
   "cell_type": "code",
   "execution_count": 11,
   "id": "c1f1d548-c084-4d74-96e0-8bcc05ff1bcb",
   "metadata": {},
   "outputs": [],
   "source": [
    "modelos_svm = {\n",
    "    \"SVM (Linear)\": SVC(kernel='linear', C=1.0, random_state=0),\n",
    "    \"SVM (RGF)\": SVC(kernel='rbf', C=1.0, random_state=0),\n",
    "    \"SVM (Poly)\": SVC(kernel='poly', C=1.0, random_state=0)\n",
    "}"
   ]
  },
  {
   "cell_type": "code",
   "execution_count": 12,
   "id": "53a0e665-74b8-4dfe-a773-a89cf9a59492",
   "metadata": {},
   "outputs": [],
   "source": [
    "resultados = {\n",
    "    \"Modelo\":[],\n",
    "    \"Acuracia\":[]\n",
    "}"
   ]
  },
  {
   "cell_type": "code",
   "execution_count": 13,
   "id": "54ed8c5f-5a2e-4431-8d42-57cdab81c1ab",
   "metadata": {},
   "outputs": [
    {
     "name": "stdout",
     "output_type": "stream",
     "text": [
      "\n",
      "=== GaussianNB ===\n",
      "Acurácia: 0.9298\n",
      "Relatório de Classificação\n",
      "              precision    recall  f1-score   support\n",
      "\n",
      "           0       0.91      0.91      0.91        47\n",
      "           1       0.94      0.94      0.94        67\n",
      "\n",
      "    accuracy                           0.93       114\n",
      "   macro avg       0.93      0.93      0.93       114\n",
      "weighted avg       0.93      0.93      0.93       114\n",
      "\n",
      "Matriz de Confusão\n",
      "[[43  4]\n",
      " [ 4 63]]\n",
      "\n",
      "=== BernoulliNB ===\n",
      "Acurácia: 0.5877\n",
      "Relatório de Classificação\n",
      "              precision    recall  f1-score   support\n",
      "\n",
      "           0       0.00      0.00      0.00        47\n",
      "           1       0.59      1.00      0.74        67\n",
      "\n",
      "    accuracy                           0.59       114\n",
      "   macro avg       0.29      0.50      0.37       114\n",
      "weighted avg       0.35      0.59      0.44       114\n",
      "\n",
      "Matriz de Confusão\n",
      "[[ 0 47]\n",
      " [ 0 67]]\n",
      "\n",
      "=== MultinomialNB ===\n",
      "Acurácia: 0.8947\n",
      "Relatório de Classificação\n",
      "              precision    recall  f1-score   support\n",
      "\n",
      "           0       0.97      0.77      0.86        47\n",
      "           1       0.86      0.99      0.92        67\n",
      "\n",
      "    accuracy                           0.89       114\n",
      "   macro avg       0.92      0.88      0.89       114\n",
      "weighted avg       0.90      0.89      0.89       114\n",
      "\n",
      "Matriz de Confusão\n",
      "[[36 11]\n",
      " [ 1 66]]\n",
      "\n",
      "=== SVM (Linear) ===\n",
      "Acurácia: 0.9561\n",
      "Relatório de Classificação\n",
      "              precision    recall  f1-score   support\n",
      "\n",
      "           0       0.92      0.98      0.95        47\n",
      "           1       0.98      0.94      0.96        67\n",
      "\n",
      "    accuracy                           0.96       114\n",
      "   macro avg       0.95      0.96      0.96       114\n",
      "weighted avg       0.96      0.96      0.96       114\n",
      "\n",
      "Matriz de Confusão\n",
      "[[46  1]\n",
      " [ 4 63]]\n",
      "\n",
      "=== SVM (RGF) ===\n",
      "Acurácia: 0.9298\n",
      "Relatório de Classificação\n",
      "              precision    recall  f1-score   support\n",
      "\n",
      "           0       0.98      0.85      0.91        47\n",
      "           1       0.90      0.99      0.94        67\n",
      "\n",
      "    accuracy                           0.93       114\n",
      "   macro avg       0.94      0.92      0.93       114\n",
      "weighted avg       0.93      0.93      0.93       114\n",
      "\n",
      "Matriz de Confusão\n",
      "[[40  7]\n",
      " [ 1 66]]\n",
      "\n",
      "=== SVM (Poly) ===\n",
      "Acurácia: 0.9123\n",
      "Relatório de Classificação\n",
      "              precision    recall  f1-score   support\n",
      "\n",
      "           0       0.97      0.81      0.88        47\n",
      "           1       0.88      0.99      0.93        67\n",
      "\n",
      "    accuracy                           0.91       114\n",
      "   macro avg       0.93      0.90      0.91       114\n",
      "weighted avg       0.92      0.91      0.91       114\n",
      "\n",
      "Matriz de Confusão\n",
      "[[38  9]\n",
      " [ 1 66]]\n"
     ]
    }
   ],
   "source": [
    "for nome_modelo, modelo in modelos_nb.items():\n",
    "    #treinando o modelo\n",
    "    modelo.fit(X_train_bc, y_train_bc)\n",
    "    #predições\n",
    "    y_preds_bc = modelo.predict(X_test_bc)\n",
    "    acc = accuracy_score(y_test_bc, y_preds_bc)\n",
    "    #armazenar no resultado\n",
    "    resultados[\"Modelo\"].append(nome_modelo)\n",
    "    resultados[\"Acuracia\"].append(acc)\n",
    "\n",
    "    #Gerando gráfico de comparação entre os modelos\n",
    "    print(f\"\\n=== {nome_modelo} ===\")\n",
    "    print(f\"Acurácia: {acc:.4f}\")\n",
    "    print(f\"Relatório de Classificação\")\n",
    "    print(classification_report(y_test_bc, y_preds_bc, zero_division=0))\n",
    "    print(\"Matriz de Confusão\")\n",
    "    print(confusion_matrix(y_test_bc, y_preds_bc))\n",
    "\n",
    "#código do \n",
    "for nome_modelo, modelo in modelos_svm.items():\n",
    "    #trinando o modelo\n",
    "    modelo.fit(X_train_bc, y_train_bc)\n",
    "    #predições\n",
    "    y_preds_bc = modelo.predict(X_test_bc)\n",
    "    acc = accuracy_score(y_test_bc, y_preds_bc)\n",
    "    #armazenar no resultado\n",
    "    resultados[\"Modelo\"].append(nome_modelo)\n",
    "    resultados[\"Acuracia\"].append(acc)\n",
    "\n",
    "    #Gerando gráfico de comparação entre os modelos\n",
    "    print(f\"\\n=== {nome_modelo} ===\")\n",
    "    print(f\"Acurácia: {acc:.4f}\")\n",
    "    print(f\"Relatório de Classificação\")\n",
    "    print(classification_report(y_test_bc, y_preds_bc, zero_division=0))\n",
    "    print(\"Matriz de Confusão\")\n",
    "    print(confusion_matrix(y_test_bc, y_preds_bc))"
   ]
  },
  {
   "cell_type": "code",
   "execution_count": 14,
   "id": "ec59bbbe-7195-42f7-a24f-3913ba8dcc58",
   "metadata": {},
   "outputs": [],
   "source": [
    "df_resultados = pd.DataFrame(resultados)"
   ]
  },
  {
   "cell_type": "code",
   "execution_count": 15,
   "id": "fdaa14e9-c566-4bad-acc3-e004fda8e193",
   "metadata": {},
   "outputs": [
    {
     "name": "stdout",
     "output_type": "stream",
     "text": [
      "\n"
     ]
    }
   ],
   "source": [
    "print(\"\")"
   ]
  },
  {
   "cell_type": "code",
   "execution_count": 16,
   "id": "d8652a89-6641-4e4d-aea0-e3fbf83dfb19",
   "metadata": {},
   "outputs": [],
   "source": [
    "df_resultados_ = df_resultados[df_resultados[\"Acuracia\"] >=0.90].copy()"
   ]
  },
  {
   "cell_type": "code",
   "execution_count": 17,
   "id": "259608d4-487e-4ca6-9ea0-0f753dd4fc89",
   "metadata": {},
   "outputs": [],
   "source": [
    "df_resultados_.reset_index(drop = True, inplace = True)"
   ]
  },
  {
   "cell_type": "code",
   "execution_count": 18,
   "id": "4fbd19a3-e7df-4385-b2f9-a0b351c5b79b",
   "metadata": {},
   "outputs": [
    {
     "data": {
      "image/png": "[encoded data removed]",
      "text/plain": [
       "<Figure size 1000x600 with 1 Axes>"
      ]
     },
     "metadata": {},
     "output_type": "display_data"
    }
   ],
   "source": [
    "plt.figure(figsize=(10,6))\n",
    "sns.barplot(\n",
    "    data =df_resultados_,\n",
    "    x= \"Modelo\",\n",
    "    y= \"Acuracia\",\n",
    "    hue= \"Modelo\",\n",
    "    palette = \"viridis\",\n",
    "    legend = False\n",
    ")\n",
    "plt.title(\"Comparacção de Acurárias- Nayve x Support Vector Machine (Breast Cancer)\")\n",
    "for i, v in enumerate(df_resultados_[\"Acuracia\"]):\n",
    "    plt.text(i, v+ 0.005, f\"{v:3f}\", ha = 'center', fontweight = 'bold')\n",
    "\n",
    "plt.xticks(rotation=40, ha='right')\n",
    "plt.ylim(0.90, 1.0)\n",
    "plt.show()"
   ]
  },
  {
   "cell_type": "code",
   "execution_count": null,
   "id": "cd9677f1-7fef-4b99-a329-9859546346a9",
   "metadata": {},
   "outputs": [],
   "source": [
    "logistic_bc = LogistiRegression(color='"
   ]
  },
  {
   "cell_type": "markdown",
   "id": "94b2b5c3-d6a4-4804-8dc2-8244ee88bfe0",
   "metadata": {},
   "source": [
    "### Regressão"
   ]
  },
  {
   "cell_type": "code",
   "execution_count": 23,
   "id": "beea70c6-4828-40bb-99ac-cc9d1829e5ed",
   "metadata": {},
   "outputs": [],
   "source": [
    "import numpy as np\n",
    "import pandas as pd\n",
    "from sklearn.datasets import fetch_california_housing  \n",
    "from sklearn.tree import DecisionTreeRegressor\n",
    "from sklearn.ensemble import RandomForestRegressor  "
   ]
  },
  {
   "cell_type": "code",
   "execution_count": null,
   "id": "794d3d50-4db4-415b-9612-0ed7004bc59f",
   "metadata": {},
   "outputs": [],
   "source": []
  }
 ],
 "metadata": {
  "kernelspec": {
   "display_name": "Python 3 (ipykernel)",
   "language": "python",
   "name": "python3"
  },
  "language_info": {
   "codemirror_mode": {
    "name": "ipython",
    "version": 3
   },
   "file_extension": ".py",
   "mimetype": "text/x-python",
   "name": "python",
   "nbconvert_exporter": "python",
   "pygments_lexer": "ipython3",
   "version": "3.10.16"
  }
 },
 "nbformat": 4,
 "nbformat_minor": 5
}
