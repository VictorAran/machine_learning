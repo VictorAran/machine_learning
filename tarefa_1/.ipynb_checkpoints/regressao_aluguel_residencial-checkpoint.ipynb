{
 "cells": [
  {
   "cell_type": "code",
   "execution_count": 57,
   "id": "dce9ed3d-4ec4-4c1a-b54f-66f4af5b9dbf",
   "metadata": {},
   "outputs": [
    {
     "name": "stdout",
     "output_type": "stream",
     "text": [
      "Requirement already satisfied: pandas in c:\\users\\noturno\\anaconda3\\lib\\site-packages (2.2.2)\n",
      "Requirement already satisfied: openpyxl in c:\\users\\noturno\\appdata\\roaming\\python\\python312\\site-packages (3.1.5)\n",
      "Requirement already satisfied: numpy>=1.26.0 in c:\\users\\noturno\\appdata\\roaming\\python\\python312\\site-packages (from pandas) (1.26.4)\n",
      "Requirement already satisfied: python-dateutil>=2.8.2 in c:\\users\\noturno\\appdata\\roaming\\python\\python312\\site-packages (from pandas) (2.9.0.post0)\n",
      "Requirement already satisfied: pytz>=2020.1 in c:\\users\\noturno\\anaconda3\\lib\\site-packages (from pandas) (2024.1)\n",
      "Requirement already satisfied: tzdata>=2022.7 in c:\\users\\noturno\\anaconda3\\lib\\site-packages (from pandas) (2023.3)\n",
      "Requirement already satisfied: et-xmlfile in c:\\users\\noturno\\appdata\\roaming\\python\\python312\\site-packages (from openpyxl) (1.1.0)\n",
      "Requirement already satisfied: six>=1.5 in c:\\users\\noturno\\appdata\\roaming\\python\\python312\\site-packages (from python-dateutil>=2.8.2->pandas) (1.16.0)\n",
      "Note: you may need to restart the kernel to use updated packages.\n"
     ]
    },
    {
     "name": "stderr",
     "output_type": "stream",
     "text": [
      "\n",
      "[notice] A new release of pip is available: 24.2 -> 24.3.1\n",
      "[notice] To update, run: C:\\Users\\noturno\\anaconda3\\python.exe -m pip install --upgrade pip\n"
     ]
    }
   ],
   "source": [
    "pip install pandas openpyxl"
   ]
  },
  {
   "cell_type": "code",
   "execution_count": 103,
   "id": "63776296-87ce-4b5d-85de-91621270a987",
   "metadata": {},
   "outputs": [],
   "source": [
    "import numpy as np\n",
    "import os\n",
    "import pandas as pd\n",
    "import xml.etree.ElementTree as ET\n",
    "import seaborn as sns\n",
    "import seaborn as sns\n",
    "import matplotlib.pyplot as plt\n",
    "from sklearn.model_selection import train_test_split\n",
    "from sklearn.linear_model import LinearRegression\n",
    "from sklearn.tree import DecisionTreeRegressor\n",
    "from sklearn.ensemble import RandomForestRegressor, GradientBoostingRegressor\n",
    "from sklearn.neighbors import KNeighborsRegressor\n",
    "from sklearn.metrics import mean_squared_error, r2_score\n"
   ]
  },
  {
   "cell_type": "code",
   "execution_count": 107,
   "id": "ad1c8333-36c3-47a9-8060-5decb456d912",
   "metadata": {},
   "outputs": [
    {
     "name": "stdout",
     "output_type": "stream",
     "text": [
      "                   ï»¿Tipo            Bairro  Quartos  Vagas  Suites  Area  \\\n",
      "0                Quitinete        Copacabana        1      0       0    40   \n",
      "1                     Casa  Jardim BotÃ¢nico        2      0       1   100   \n",
      "2  Conjunto Comercial/Sala   Barra da Tijuca        0      4       0   150   \n",
      "3              Apartamento            Centro        1      0       0    15   \n",
      "4              Apartamento     HigienÃ³polis        1      0       0    48   \n",
      "\n",
      "    Valor  Condominio    IPTU  \n",
      "0  1700.0       500.0    60.0  \n",
      "1  7000.0         NaN     NaN  \n",
      "2  5200.0      4020.0  1111.0  \n",
      "3   800.0       390.0    20.0  \n",
      "4   800.0       230.0     NaN  \n",
      "Index(['ï»¿Tipo', 'Bairro', 'Quartos', 'Vagas', 'Suites', 'Area', 'Valor',\n",
      "       'Condominio', 'IPTU'],\n",
      "      dtype='object')\n"
     ]
    }
   ],
   "source": [
    "# Carregar o dataset\n",
    "aluguel_data = pd.read_csv('C:\\\\Users\\\\noturno\\\\Desktop\\\\Machine-Learning\\\\arquivos_csv\\\\aluguel.csv',sep=';', encoding='ISO-8859-1')\n",
    "\n",
    "# Inspecionar as primeiras 5 linhas do dataset\n",
    "print(aluguel_data.head())\n",
    "\n",
    "# Inspecionar as colunas para verificar se estão corretas\n",
    "print(aluguel_data.columns)"
   ]
  },
  {
   "cell_type": "code",
   "execution_count": 30,
   "id": "a413de55-9c3f-468b-a8e2-e03f311a70ee",
   "metadata": {},
   "outputs": [
    {
     "name": "stdout",
     "output_type": "stream",
     "text": [
      "Index(['Tipo;Bairro;Quartos;Vagas;Suites;Area;Valor;Condominio;IPTU'], dtype='object')\n"
     ]
    }
   ],
   "source": [
    "# Exibir as colunas para garantir que estamos acessando as colunas corretamente\n",
    "print(aluguel_data.columns)"
   ]
  },
  {
   "cell_type": "code",
   "execution_count": 113,
   "id": "e718e0d0-a3c4-4057-b26d-bf841d775b82",
   "metadata": {},
   "outputs": [
    {
     "name": "stdout",
     "output_type": "stream",
     "text": [
      "   Quartos  Vagas  Suites  Area   Valor  Condominio    IPTU\n",
      "0        1      0       0    40  1700.0       500.0    60.0\n",
      "1        2      0       1   100  7000.0         NaN     NaN\n",
      "2        0      4       0   150  5200.0      4020.0  1111.0\n",
      "3        1      0       0    15   800.0       390.0    20.0\n",
      "4        1      0       0    48   800.0       230.0     NaN\n",
      "0    1700.0\n",
      "1    7000.0\n",
      "2    5200.0\n",
      "3     800.0\n",
      "4     800.0\n",
      "Name: Valor, dtype: float64\n"
     ]
    }
   ],
   "source": [
    "# Filtrar apenas as variáveis numéricas para a análise de regressão\n",
    "x_aluguel = aluguel_data.select_dtypes(include=[np.number])\n",
    "\n",
    "# Selecionar a variável dependente (Valor)\n",
    "y_aluguel = aluguel_data[\"Valor\"]\n",
    "\n",
    "# Exibir as primeiras linhas para verificar\n",
    "print(x_aluguel.head())\n",
    "print(y_aluguel.head())"
   ]
  },
  {
   "cell_type": "code",
   "execution_count": 115,
   "id": "f00bf28d-6699-4ee5-b826-bd1b80248913",
   "metadata": {},
   "outputs": [],
   "source": [
    "# Tratar valores ausentes (se houver)\n",
    "x_aluguel = x_aluguel.fillna(x_aluguel.mean())\n",
    "y_aluguel = y_aluguel.fillna(y_aluguel.mean())"
   ]
  },
  {
   "cell_type": "code",
   "execution_count": 117,
   "id": "9139ff19-c5f7-4332-8d5f-e29c91c87756",
   "metadata": {},
   "outputs": [],
   "source": [
    "# Dividir os dados em treino e teste\n",
    "x_train_aluguel, x_test_aluguel, y_train_aluguel, y_test_aluguel = train_test_split(\n",
    "    x_aluguel, y_aluguel, test_size=0.2, random_state=0)"
   ]
  },
  {
   "cell_type": "code",
   "execution_count": 119,
   "id": "4cc0266e-3f6c-4f81-a6db-8e34468e5f8f",
   "metadata": {},
   "outputs": [],
   "source": [
    "# Lista de modelos de regressão\n",
    "models_regression = {\n",
    "    \"Linear Regression\": LinearRegression(),\n",
    "    \"Decision Tree\": DecisionTreeRegressor(random_state=0),\n",
    "    \"Random Forest\": RandomForestRegressor(random_state=0),\n",
    "    \"Gradient Boosting\": GradientBoostingRegressor(random_state=0),\n",
    "    \"KNN Regressor\": KNeighborsRegressor()\n",
    "}"
   ]
  },
  {
   "cell_type": "code",
   "execution_count": 121,
   "id": "fd64781d-864b-4101-a846-67ec620b7ac2",
   "metadata": {},
   "outputs": [
    {
     "name": "stdout",
     "output_type": "stream",
     "text": [
      "\n",
      "Linear Regression\n",
      "MSE: 1.3544180557994898e-19\n",
      "R²: 1.0\n",
      "\n",
      "Decision Tree\n",
      "MSE: 1574030944.723301\n",
      "R²: 0.5989893922758788\n",
      "\n",
      "Random Forest\n",
      "MSE: 1621965667.2011795\n",
      "R²: 0.5867772230956088\n",
      "\n",
      "Gradient Boosting\n",
      "MSE: 1530462005.6628625\n",
      "R²: 0.610089305393275\n",
      "\n",
      "KNN Regressor\n",
      "MSE: 1677035768.4758158\n",
      "R²: 0.5727471972860128\n"
     ]
    }
   ],
   "source": [
    "# Avaliar cada modelo de regressão\n",
    "results = []\n",
    "for name, model in models_regression.items():\n",
    "    # Treinar o modelo\n",
    "    model.fit(x_train_aluguel, y_train_aluguel)\n",
    "    \n",
    "    # Fazer previsões\n",
    "    y_preds = model.predict(x_test_aluguel)\n",
    "    \n",
    "    # Calcular métricas\n",
    "    mse = mean_squared_error(y_test_aluguel, y_preds)\n",
    "    r2 = r2_score(y_test_aluguel, y_preds)\n",
    "    \n",
    "    # Exibir resultados\n",
    "    print(f\"\\n{name}\")\n",
    "    print(f\"MSE: {mse}\")\n",
    "    print(f\"R²: {r2}\")"
   ]
  },
  {
   "cell_type": "code",
   "execution_count": 123,
   "id": "ed7f56af-08cc-4516-89fe-c023cff0ad92",
   "metadata": {},
   "outputs": [],
   "source": [
    "# Armazenar resultados\n",
    "results.append({\"Modelo\": name, \"MSE\": mse, \"R²\": r2})"
   ]
  },
  {
   "cell_type": "code",
   "execution_count": 125,
   "id": "fd8522e4-a84c-4489-a228-d7e4bc61e073",
   "metadata": {},
   "outputs": [
    {
     "name": "stdout",
     "output_type": "stream",
     "text": [
      "\n",
      "Ranking dos Modelos:\n",
      "          Modelo           MSE        R²\n",
      "0  KNN Regressor  1.677036e+09  0.572747\n"
     ]
    },
    {
     "name": "stderr",
     "output_type": "stream",
     "text": [
      "C:\\Users\\noturno\\AppData\\Local\\Temp\\ipykernel_12592\\1976722849.py:10: FutureWarning: \n",
      "\n",
      "Passing `palette` without assigning `hue` is deprecated and will be removed in v0.14.0. Assign the `y` variable to `hue` and set `legend=False` for the same effect.\n",
      "\n",
      "  sns.barplot(x=\"R²\", y=\"Modelo\", data=results_df.sort_values(by=\"R²\", ascending=False), palette=\"viridis\")\n"
     ]
    },
    {
     "data": {
      "image/png": "[encoded data removed]",
      "text/plain": [
       "<Figure size 1000x600 with 1 Axes>"
      ]
     },
     "metadata": {},
     "output_type": "display_data"
    }
   ],
   "source": [
    "# Gerar DataFrame com os resultados\n",
    "results_df = pd.DataFrame(results)\n",
    "\n",
    "# Ordenar e exibir os melhores modelos\n",
    "print(\"\\nRanking dos Modelos:\")\n",
    "print(results_df.sort_values(by=\"R²\", ascending=False))\n",
    "\n",
    "# Visualizar os resultados\n",
    "plt.figure(figsize=(10, 6))\n",
    "sns.barplot(x=\"R²\", y=\"Modelo\", data=results_df.sort_values(by=\"R²\", ascending=False), palette=\"viridis\")\n",
    "plt.title(\"Comparação dos Modelos de Regressão (R²)\")\n",
    "plt.xlabel(\"R² Score\")\n",
    "plt.ylabel(\"Modelos\")\n",
    "plt.show()"
   ]
  },
  {
   "cell_type": "code",
   "execution_count": null,
   "id": "1bc0545b-5c34-43cb-a754-316384b8ea6c",
   "metadata": {},
   "outputs": [],
   "source": []
  }
 ],
 "metadata": {
  "kernelspec": {
   "display_name": "Python 3 (ipykernel)",
   "language": "python",
   "name": "python3"
  },
  "language_info": {
   "codemirror_mode": {
    "name": "ipython",
    "version": 3
   },
   "file_extension": ".py",
   "mimetype": "text/x-python",
   "name": "python",
   "nbconvert_exporter": "python",
   "pygments_lexer": "ipython3",
   "version": "3.12.3"
  }
 },
 "nbformat": 4,
 "nbformat_minor": 5
}
