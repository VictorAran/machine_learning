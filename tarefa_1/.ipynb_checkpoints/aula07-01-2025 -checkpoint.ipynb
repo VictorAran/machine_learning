{
 "cells": [
  {
   "cell_type": "code",
   "execution_count": 1,
   "id": "2119cb0c-8ada-473b-9ad6-53b8f4284b4c",
   "metadata": {},
   "outputs": [],
   "source": [
    "import numpy as np\n",
    "import pandas as pd"
   ]
  },
  {
   "cell_type": "code",
   "execution_count": 2,
   "id": "c7dd9f3f-7f3c-425c-8423-bf32f24074fd",
   "metadata": {},
   "outputs": [
    {
     "name": "stdout",
     "output_type": "stream",
     "text": [
      "Collecting sklearnNote: you may need to restart the kernel to use updated packages.\n",
      "\n",
      "  Using cached sklearn-0.0.post12.tar.gz (2.6 kB)\n",
      "  Preparing metadata (setup.py): started\n",
      "  Preparing metadata (setup.py): finished with status 'error'\n"
     ]
    },
    {
     "name": "stderr",
     "output_type": "stream",
     "text": [
      "  error: subprocess-exited-with-error\n",
      "  \n",
      "  python setup.py egg_info did not run successfully.\n",
      "  exit code: 1\n",
      "  \n",
      "  [15 lines of output]\n",
      "  The 'sklearn' PyPI package is deprecated, use 'scikit-learn'\n",
      "  rather than 'sklearn' for pip commands.\n",
      "  \n",
      "  Here is how to fix this error in the main use cases:\n",
      "  - use 'pip install scikit-learn' rather than 'pip install sklearn'\n",
      "  - replace 'sklearn' by 'scikit-learn' in your pip requirements files\n",
      "    (requirements.txt, setup.py, setup.cfg, Pipfile, etc ...)\n",
      "  - if the 'sklearn' package is used by one of your dependencies,\n",
      "    it would be great if you take some time to track which package uses\n",
      "    'sklearn' instead of 'scikit-learn' and report it to their issue tracker\n",
      "  - as a last resort, set the environment variable\n",
      "    SKLEARN_ALLOW_DEPRECATED_SKLEARN_PACKAGE_INSTALL=True to avoid this error\n",
      "  \n",
      "  More information is available at\n",
      "  https://github.com/scikit-learn/sklearn-pypi-package\n",
      "  [end of output]\n",
      "  \n",
      "  note: This error originates from a subprocess, and is likely not a problem with pip.\n",
      "error: metadata-generation-failed\n",
      "\n",
      "Encountered error while generating package metadata.\n",
      "\n",
      "See above for output.\n",
      "\n",
      "note: This is an issue with the package mentioned above, not pip.\n",
      "hint: See above for details.\n"
     ]
    }
   ],
   "source": [
    "pip install sklearn"
   ]
  },
  {
   "cell_type": "code",
   "execution_count": 3,
   "id": "4af84659-269b-4f7f-8d77-fa4fa45bc778",
   "metadata": {},
   "outputs": [
    {
     "ename": "ModuleNotFoundError",
     "evalue": "No module named 'sklearn'",
     "output_type": "error",
     "traceback": [
      "\u001b[1;31m---------------------------------------------------------------------------\u001b[0m",
      "\u001b[1;31mModuleNotFoundError\u001b[0m                       Traceback (most recent call last)",
      "Cell \u001b[1;32mIn[3], line 1\u001b[0m\n\u001b[1;32m----> 1\u001b[0m \u001b[38;5;28;01mfrom\u001b[39;00m\u001b[38;5;250m \u001b[39m\u001b[38;5;21;01msklearn\u001b[39;00m\u001b[38;5;21;01m.\u001b[39;00m\u001b[38;5;21;01mdatasets\u001b[39;00m\u001b[38;5;250m \u001b[39m\u001b[38;5;28;01mimport\u001b[39;00m load_breast_cancer\n\u001b[0;32m      2\u001b[0m \u001b[38;5;28;01mfrom\u001b[39;00m\u001b[38;5;250m \u001b[39m\u001b[38;5;21;01msklearn\u001b[39;00m\u001b[38;5;21;01m.\u001b[39;00m\u001b[38;5;21;01mmodel_selection\u001b[39;00m\u001b[38;5;250m \u001b[39m\u001b[38;5;28;01mimport\u001b[39;00m train_test_split\n",
      "\u001b[1;31mModuleNotFoundError\u001b[0m: No module named 'sklearn'"
     ]
    }
   ],
   "source": [
    "from sklearn.datasets import load_breast_cancer\n",
    "from sklearn.model_selection import train_test_split"
   ]
  },
  {
   "cell_type": "code",
   "execution_count": null,
   "id": "a154b69b-7e5d-4c0e-83c4-e55c1347ea12",
   "metadata": {},
   "outputs": [],
   "source": [
    "from sklearn.naive_bayes import GaussianNB, BernoulliNB, MultinomialNB\n",
    "from sklearn.svm import SVC\n"
   ]
  },
  {
   "cell_type": "code",
   "execution_count": null,
   "id": "c472f8e2-fb0b-4bbf-aec7-6b2881a07353",
   "metadata": {},
   "outputs": [],
   "source": [
    "from sklearn.metrics import accuracy_score, classification_report, confusion_matrix\n"
   ]
  },
  {
   "cell_type": "code",
   "execution_count": null,
   "id": "ab3d7b7e-96a7-4fa9-8a3d-b96b35301ffa",
   "metadata": {},
   "outputs": [],
   "source": [
    "import seaborn as sns\n",
    "import matplotlib.pyplot as plt"
   ]
  },
  {
   "cell_type": "code",
   "execution_count": null,
   "id": "ea1844ce-29a5-4289-958a-1b22342c732b",
   "metadata": {},
   "outputs": [],
   "source": [
    "breast_cancer = load_breast_cancer(as_frame=True)\n",
    "df_breast = breast_cancer.frame"
   ]
  },
  {
   "cell_type": "code",
   "execution_count": null,
   "id": "6cdea960-cf2b-4056-bb1a-0aefe981aaac",
   "metadata": {},
   "outputs": [],
   "source": [
    "X_bc = df_breast.drop(\"target\", axis=1)\n",
    "y_bc = df_breast[\"target\"]"
   ]
  },
  {
   "cell_type": "code",
   "execution_count": null,
   "id": "010719b4-e11a-431c-a524-66b756cd6aa2",
   "metadata": {},
   "outputs": [],
   "source": [
    "X_train_bc, X_test_bc, y_train_bc, y_test_bc = train_test_split(\n",
    "    X_bc, y_bc, test_size = 0.20, random_state = 0)"
   ]
  },
  {
   "cell_type": "code",
   "execution_count": null,
   "id": "1063f5ef-8158-4e28-9445-c8dcbbe57648",
   "metadata": {},
   "outputs": [],
   "source": [
    "modelos_nb = {\n",
    "    \"GaussianNB\": GaussianNB(),\n",
    "    \"BernoulliNB\": BernoulliNB(),\n",
    "    \"MultinomialNB\": MultinomialNB()\n",
    "}"
   ]
  },
  {
   "cell_type": "code",
   "execution_count": null,
   "id": "c1f1d548-c084-4d74-96e0-8bcc05ff1bcb",
   "metadata": {},
   "outputs": [],
   "source": [
    "modelos_svm = {\n",
    "    \"SVM (Linear)\": SVC(kernel='linear', C=1.0, random_state=0),\n",
    "    \"SVM (RGF)\": SVC(kernel='rbf', C=1.0, random_state=0),\n",
    "    \"SVM (Poly)\": SVC(kernel='poly', C=1.0, random_state=0)\n",
    "}"
   ]
  },
  {
   "cell_type": "code",
   "execution_count": null,
   "id": "53a0e665-74b8-4dfe-a773-a89cf9a59492",
   "metadata": {},
   "outputs": [],
   "source": [
    "resultados = {\n",
    "    \"Modelo\":[],\n",
    "    \"Acuracia\":[]\n",
    "}"
   ]
  },
  {
   "cell_type": "code",
   "execution_count": null,
   "id": "54ed8c5f-5a2e-4431-8d42-57cdab81c1ab",
   "metadata": {},
   "outputs": [],
   "source": [
    "for nome_modelo, modelo in modelos_nb.items():\n",
    "    #treinando o modelo\n",
    "    modelo.fit(X_train_bc, y_train_bc)\n",
    "    #predições\n",
    "    y_preds_bc = modelo.predict(X_test_bc)\n",
    "    acc = accuracy_score(y_test_bc, y_preds_bc)\n",
    "    #armazenar no resultado\n",
    "    resultados[\"Modelo\"].append(nome_modelo)\n",
    "    resultados[\"Acuracia\"].append(acc)\n",
    "\n",
    "    #Gerando gráfico de comparação entre os modelos\n",
    "    print(f\"\\n=== {nome_modelo} ===\")\n",
    "    print(f\"Acurácia: {acc:.4f}\")\n",
    "    print(f\"Relatório de Classificação\")\n",
    "    print(classification_report(y_test_bc, y_preds_bc, zero_division=0))\n",
    "    print(\"Matriz de Confusão\")\n",
    "    print(confusion_matrix(y_test_bc, y_preds_bc))\n",
    "\n",
    "#código do \n",
    "for nome_modelo, modelo in modelos_svm.items():\n",
    "    #trinando o modelo\n",
    "    modelo.fit(X_train_bc, y_train_bc)\n",
    "    #predições\n",
    "    y_preds_bc = modelo.predict(X_test_bc)\n",
    "    acc = accuracy_score(y_test_bc, y_preds_bc)\n",
    "    #armazenar no resultado\n",
    "    resultados[\"Modelo\"].append(nome_modelo)\n",
    "    resultados[\"Acuracia\"].append(acc)\n",
    "\n",
    "    #Gerando gráfico de comparação entre os modelos\n",
    "    print(f\"\\n=== {nome_modelo} ===\")\n",
    "    print(f\"Acurácia: {acc:.4f}\")\n",
    "    print(f\"Relatório de Classificação\")\n",
    "    print(classification_report(y_test_bc, y_preds_bc, zero_division=0))\n",
    "    print(\"Matriz de Confusão\")\n",
    "    print(confusion_matrix(y_test_bc, y_preds_bc))"
   ]
  },
  {
   "cell_type": "code",
   "execution_count": null,
   "id": "ec59bbbe-7195-42f7-a24f-3913ba8dcc58",
   "metadata": {},
   "outputs": [],
   "source": [
    "df_resultados = pd.DataFrame(resultados)"
   ]
  },
  {
   "cell_type": "code",
   "execution_count": null,
   "id": "fdaa14e9-c566-4bad-acc3-e004fda8e193",
   "metadata": {},
   "outputs": [],
   "source": [
    "print(\"\")"
   ]
  },
  {
   "cell_type": "code",
   "execution_count": null,
   "id": "d8652a89-6641-4e4d-aea0-e3fbf83dfb19",
   "metadata": {},
   "outputs": [],
   "source": [
    "df_resultados_ = df_resultados[df_resultados[\"Acuracia\"] >=0.90].copy()"
   ]
  },
  {
   "cell_type": "code",
   "execution_count": null,
   "id": "259608d4-487e-4ca6-9ea0-0f753dd4fc89",
   "metadata": {},
   "outputs": [],
   "source": [
    "df_resultados_.reset_index(drop = True, inplace = True)"
   ]
  },
  {
   "cell_type": "code",
   "execution_count": null,
   "id": "4fbd19a3-e7df-4385-b2f9-a0b351c5b79b",
   "metadata": {},
   "outputs": [],
   "source": [
    "plt.figure(figsize=(10,6))\n",
    "sns.barplot(\n",
    "    data =df_resultados_,\n",
    "    x= \"Modelo\",\n",
    "    y= \"Acuracia\",\n",
    "    hue= \"Modelo\",\n",
    "    palette = \"viridis\",\n",
    "    legend = False\n",
    ")\n",
    "plt.title(\"Comparacção de Acurárias- Nayve x Support Vector Machine (Breast Cancer)\")\n",
    "for i, v in enumerate(df_resultados_[\"Acuracia\"]):\n",
    "    plt.text(i, v+ 0.005, f\"{v:3f}\", ha = 'center', fontweight = 'bold')\n",
    "\n",
    "plt.xticks(rotation=40, ha='right')\n",
    "plt.ylim(0.90, 1.0)\n",
    "plt.show()"
   ]
  },
  {
   "cell_type": "code",
   "execution_count": null,
   "id": "cd9677f1-7fef-4b99-a329-9859546346a9",
   "metadata": {},
   "outputs": [],
   "source": []
  }
 ],
 "metadata": {
  "kernelspec": {
   "display_name": "Python 3 (ipykernel)",
   "language": "python",
   "name": "python3"
  },
  "language_info": {
   "codemirror_mode": {
    "name": "ipython",
    "version": 3
   },
   "file_extension": ".py",
   "mimetype": "text/x-python",
   "name": "python",
   "nbconvert_exporter": "python",
   "pygments_lexer": "ipython3",
   "version": "3.10.16"
  }
 },
 "nbformat": 4,
 "nbformat_minor": 5
}
