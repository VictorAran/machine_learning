{
 "cells": [
  {
   "cell_type": "code",
   "execution_count": null,
   "metadata": {
    "id": "fZ9eRQI2BtaW"
   },
   "outputs": [],
   "source": [
    "from sklearn.datasets import load_iris"
   ]
  },
  {
   "cell_type": "code",
   "execution_count": null,
   "metadata": {
    "id": "TioOwPHoJ7ss"
   },
   "outputs": [],
   "source": [
    "from sklearn.tree import DecisionTreeClassifier\n",
    "from sklearn.ensemble import RandomForestClassifier\n",
    "from sklearn.linear_model import LogisticRegression\n",
    "from sklearn.model_selection import train_test_split"
   ]
  },
  {
   "cell_type": "code",
   "execution_count": null,
   "metadata": {
    "id": "VipZIzk_J9xL"
   },
   "outputs": [],
   "source": [
    "iris = load_iris(as_frame=True)\n",
    "df_iris = iris.frame"
   ]
  },
  {
   "cell_type": "code",
   "execution_count": null,
   "metadata": {
    "colab": {
     "base_uri": "https://localhost:8080/",
     "height": 423
    },
    "id": "LZLUpIzfJ_Gn",
    "outputId": "7045804f-89ef-4fa5-a78c-47c66fde0a2f"
   },
   "outputs": [],
   "source": [
    "df_iris"
   ]
  },
  {
   "cell_type": "code",
   "execution_count": null,
   "metadata": {
    "id": "vi6WLHWpKQFr"
   },
   "outputs": [],
   "source": [
    "X_iris = df_iris.drop('target', axis=1)\n",
    "y_iris = df_iris['target']"
   ]
  },
  {
   "cell_type": "code",
   "execution_count": null,
   "metadata": {
    "colab": {
     "base_uri": "https://localhost:8080/"
    },
    "id": "mIAUHYN6KXoP",
    "outputId": "4c6beada-9f09-4b64-8250-35ad43041b50"
   },
   "outputs": [],
   "source": [
    "X_iris.shape, y_iris.shape"
   ]
  },
  {
   "cell_type": "code",
   "execution_count": null,
   "metadata": {
    "id": "7uV_VqmuKf_j"
   },
   "outputs": [],
   "source": [
    "X_train_iris, X_test_iris, y_train_iris, y_test_iris = train_test_split(X_iris, y_iris, test_size=0.2, random_state=0)"
   ]
  },
  {
   "cell_type": "code",
   "execution_count": null,
   "metadata": {
    "colab": {
     "base_uri": "https://localhost:8080/"
    },
    "id": "JmwGCoGPLq7V",
    "outputId": "27712922-b4da-4c20-d46c-0d53526680ad"
   },
   "outputs": [],
   "source": [
    "X_train_iris.shape, X_test_iris.shape, y_train_iris.shape, y_test_iris.shape"
   ]
  },
  {
   "cell_type": "markdown",
   "metadata": {
    "id": "DmKnL056XOLN"
   },
   "source": [
    "### Decision Tree\n",
    "\n"
   ]
  },
  {
   "cell_type": "code",
   "execution_count": null,
   "metadata": {
    "id": "BNwuYG7TLvcU"
   },
   "outputs": [],
   "source": [
    "modelo_tree = DecisionTreeClassifier(random_state=0) # Instanciando o classificador"
   ]
  },
  {
   "cell_type": "code",
   "execution_count": null,
   "metadata": {
    "colab": {
     "base_uri": "https://localhost:8080/",
     "height": 80
    },
    "id": "Mxfc4f-pMg7S",
    "outputId": "1506f47a-4ef0-4c66-f9e0-4455a8a3d0c9"
   },
   "outputs": [],
   "source": [
    "modelo_tree"
   ]
  },
  {
   "cell_type": "code",
   "execution_count": null,
   "metadata": {
    "colab": {
     "base_uri": "https://localhost:8080/",
     "height": 80
    },
    "id": "02vCY_OIM2Md",
    "outputId": "9613e829-4705-4fe8-9362-d2bbb05ebb08"
   },
   "outputs": [],
   "source": [
    "modelo_tree.fit(X_train_iris, y_train_iris) # Treinando o modelo"
   ]
  },
  {
   "cell_type": "code",
   "execution_count": null,
   "metadata": {
    "id": "WGJ2jp3_MiJw"
   },
   "outputs": [],
   "source": [
    "y_preds_iris = modelo_tree.predict(X_test_iris)"
   ]
  },
  {
   "cell_type": "code",
   "execution_count": null,
   "metadata": {
    "id": "Bz12FN3jMuCQ"
   },
   "outputs": [],
   "source": [
    "from sklearn.metrics import accuracy_score, classification_report, confusion_matrix"
   ]
  },
  {
   "cell_type": "code",
   "execution_count": null,
   "metadata": {
    "id": "O-_Eulz5N8dM"
   },
   "outputs": [],
   "source": [
    "accuracy_tree = accuracy_score(y_test_iris, y_preds_iris)"
   ]
  },
  {
   "cell_type": "code",
   "execution_count": null,
   "metadata": {
    "colab": {
     "base_uri": "https://localhost:8080/"
    },
    "id": "NADBSSlMORa2",
    "outputId": "4c5de311-200c-4987-ddc0-3ee4c7bf74ad"
   },
   "outputs": [],
   "source": [
    "print(f'Acurácia do modelo Decision Tree: {accuracy_tree}')"
   ]
  },
  {
   "cell_type": "code",
   "execution_count": null,
   "metadata": {
    "colab": {
     "base_uri": "https://localhost:8080/",
     "height": 736
    },
    "id": "_xGrcvBoOVBr",
    "outputId": "eb7de76e-3c0c-4b68-8bd6-9e1f3fc3e37e"
   },
   "outputs": [],
   "source": [
    "from sklearn import tree\n",
    "tree.plot_tree(modelo_tree)"
   ]
  },
  {
   "cell_type": "markdown",
   "metadata": {
    "id": "rs5eCARuQpTf"
   },
   "source": [
    "### Random Forest"
   ]
  },
  {
   "cell_type": "code",
   "execution_count": null,
   "metadata": {
    "id": "vOF-fUEUQI9v"
   },
   "outputs": [],
   "source": [
    "modelo_rf = RandomForestClassifier(n_estimators = 100, random_state=0)"
   ]
  },
  {
   "cell_type": "code",
   "execution_count": null,
   "metadata": {
    "colab": {
     "base_uri": "https://localhost:8080/",
     "height": 80
    },
    "id": "RoC120ujRBQd",
    "outputId": "446a0e34-0b16-4394-84b1-ea63abff787f"
   },
   "outputs": [],
   "source": [
    "modelo_rf.fit(X_train_iris, y_train_iris)"
   ]
  },
  {
   "cell_type": "code",
   "execution_count": null,
   "metadata": {
    "id": "kvXf1c2-RD8U"
   },
   "outputs": [],
   "source": [
    "y_preds_iris_rf = modelo_rf.predict(X_test_iris)"
   ]
  },
  {
   "cell_type": "code",
   "execution_count": null,
   "metadata": {
    "id": "Mer-nyggRK2v"
   },
   "outputs": [],
   "source": [
    "accuracy_rf = accuracy_score(y_test_iris, y_preds_iris_rf)"
   ]
  },
  {
   "cell_type": "code",
   "execution_count": null,
   "metadata": {
    "colab": {
     "base_uri": "https://localhost:8080/"
    },
    "id": "1LSQPfXMRSYk",
    "outputId": "31874d44-dce9-443e-d4f0-16f200164ea6"
   },
   "outputs": [],
   "source": [
    "print(f'Acurácia do modelo Decision Tree: {accuracy_rf}')"
   ]
  },
  {
   "cell_type": "markdown",
   "metadata": {
    "id": "WtyuamkqUEnf"
   },
   "source": [
    "### Regressão Logística"
   ]
  },
  {
   "cell_type": "code",
   "execution_count": null,
   "metadata": {
    "id": "HSR-7lFbUIAm"
   },
   "outputs": [],
   "source": [
    "modelo_rl = LogisticRegression(random_state=0)"
   ]
  },
  {
   "cell_type": "code",
   "execution_count": null,
   "metadata": {
    "colab": {
     "base_uri": "https://localhost:8080/",
     "height": 80
    },
    "id": "fcwLWKbgUQ-2",
    "outputId": "6a1456d2-d717-4feb-8da2-939b5ef0f474"
   },
   "outputs": [],
   "source": [
    "modelo_rl.fit(X_train_iris, y_train_iris)"
   ]
  },
  {
   "cell_type": "code",
   "execution_count": null,
   "metadata": {
    "id": "Rw41bLKqURL-"
   },
   "outputs": [],
   "source": [
    "y_preds_rl_iris = modelo_rl.predict(X_test_iris)"
   ]
  },
  {
   "cell_type": "code",
   "execution_count": null,
   "metadata": {
    "id": "KUWutfQ0URn-"
   },
   "outputs": [],
   "source": [
    "accuracy_rl = accuracy_score(y_test_iris, y_preds_rl_iris)"
   ]
  },
  {
   "cell_type": "code",
   "execution_count": null,
   "metadata": {
    "colab": {
     "base_uri": "https://localhost:8080/"
    },
    "id": "tXGOeuERUR1O",
    "outputId": "32bb2bf9-26b7-4c34-da13-9c52db713ffd"
   },
   "outputs": [],
   "source": [
    "print(f'Acurácia do modelo Regressão Logística: {accuracy_rl}')"
   ]
  },
  {
   "cell_type": "code",
   "execution_count": null,
   "metadata": {
    "id": "5pTJx9boUSMO"
   },
   "outputs": [],
   "source": []
  },
  {
   "cell_type": "code",
   "execution_count": null,
   "metadata": {
    "id": "OKN5dxiRUSb-"
   },
   "outputs": [],
   "source": []
  },
  {
   "cell_type": "code",
   "execution_count": null,
   "metadata": {
    "id": "iA-saJQpURaG"
   },
   "outputs": [],
   "source": []
  },
  {
   "cell_type": "code",
   "execution_count": null,
   "metadata": {
    "id": "XNiiHeD1RV77"
   },
   "outputs": [],
   "source": [
    "  import numpy as np\n",
    "  import pandas as pd\n",
    "\n",
    "  from sklearn.datasets import load_breast_cancer\n",
    "  from sklearn.model_selection import train_test_split\n",
    "  from sklearn.tree import DecisionTreeClassifier\n",
    "  from sklearn.ensemble import RandomForestClassifier\n",
    "  from sklearn.metrics import accuracy_score, classification_report, confusion_matrix"
   ]
  },
  {
   "cell_type": "code",
   "execution_count": null,
   "metadata": {
    "id": "GUpFFTDZTEwO"
   },
   "outputs": [],
   "source": [
    "breast_cancer = load_breast_cancer(as_frame=True)\n",
    "df_breast = breast_cancer.frame"
   ]
  },
  {
   "cell_type": "code",
   "execution_count": null,
   "metadata": {
    "colab": {
     "base_uri": "https://localhost:8080/",
     "height": 290
    },
    "id": "EqBPaN97S15Z",
    "outputId": "53163d8e-1b90-4205-e09a-9838575daa1b"
   },
   "outputs": [],
   "source": [
    "df_breast.head()"
   ]
  },
  {
   "cell_type": "code",
   "execution_count": null,
   "metadata": {
    "id": "ZPgwV_KfS93w"
   },
   "outputs": [],
   "source": [
    "X_breast = df_breast.drop('target', axis=1)\n",
    "y_breast = df_breast['target']"
   ]
  },
  {
   "cell_type": "code",
   "execution_count": null,
   "metadata": {
    "colab": {
     "base_uri": "https://localhost:8080/"
    },
    "id": "xO7ywZDUTdj1",
    "outputId": "5fa1ccdc-409d-4141-d9bf-af78aad46266"
   },
   "outputs": [],
   "source": [
    "X_breast.shape, y_breast.shape"
   ]
  },
  {
   "cell_type": "code",
   "execution_count": null,
   "metadata": {
    "id": "CTU6Nra6TivU"
   },
   "outputs": [],
   "source": [
    "X_train_breast, X_test_breast, y_train_breast, y_test_breast = train_test_split(X_breast, y_breast, test_size=0.2, random_state=0)"
   ]
  },
  {
   "cell_type": "code",
   "execution_count": null,
   "metadata": {
    "colab": {
     "base_uri": "https://localhost:8080/"
    },
    "id": "-kGMwuu1TpxZ",
    "outputId": "613b9239-f47f-4672-9a83-b0a582d98948"
   },
   "outputs": [],
   "source": [
    "X_train_breast.shape, X_test_breast.shape, y_train_breast.shape, y_test_breast.shape"
   ]
  },
  {
   "cell_type": "markdown",
   "metadata": {
    "id": "4qQ5bxALVoq2"
   },
   "source": [
    "### Decision Tree - Breast"
   ]
  },
  {
   "cell_type": "code",
   "execution_count": null,
   "metadata": {
    "id": "TTlDm8AYTxXp"
   },
   "outputs": [],
   "source": [
    "modelo_tree_breast = DecisionTreeClassifier(random_state=0)"
   ]
  },
  {
   "cell_type": "code",
   "execution_count": null,
   "metadata": {
    "colab": {
     "base_uri": "https://localhost:8080/",
     "height": 80
    },
    "id": "DPQZvVAKT0AI",
    "outputId": "fe7f50ac-fc72-4246-832a-266e48207f7e"
   },
   "outputs": [],
   "source": [
    "modelo_tree_breast"
   ]
  },
  {
   "cell_type": "code",
   "execution_count": null,
   "metadata": {
    "colab": {
     "base_uri": "https://localhost:8080/",
     "height": 80
    },
    "id": "vtxAGAp7T3VY",
    "outputId": "81a6109e-7edb-4ef9-c6a2-120d5973d0fa"
   },
   "outputs": [],
   "source": [
    "modelo_tree_breast.fit(X_train_breast, y_train_breast)"
   ]
  },
  {
   "cell_type": "code",
   "execution_count": null,
   "metadata": {
    "id": "Loo0NEauVF28"
   },
   "outputs": [],
   "source": [
    "y_preds_breast = modelo_tree_breast.predict(X_test_breast)"
   ]
  },
  {
   "cell_type": "code",
   "execution_count": null,
   "metadata": {
    "id": "jk2Ol9sCVLHx"
   },
   "outputs": [],
   "source": [
    "from sklearn.metrics import accuracy_score, classification_report, confusion_matrix"
   ]
  },
  {
   "cell_type": "code",
   "execution_count": null,
   "metadata": {
    "id": "wO3TisiUVTPi"
   },
   "outputs": [],
   "source": [
    "accuracy_tree_breast = accuracy_score(y_test_breast, y_preds_breast)"
   ]
  },
  {
   "cell_type": "code",
   "execution_count": null,
   "metadata": {
    "colab": {
     "base_uri": "https://localhost:8080/"
    },
    "id": "U3TfQRF0VWq8",
    "outputId": "c709af06-dc4d-4965-9fff-ea4717dac428"
   },
   "outputs": [],
   "source": [
    "print(f'Acurácia do modelo Decision Tree: {accuracy_tree_breast}')"
   ]
  },
  {
   "cell_type": "markdown",
   "metadata": {
    "id": "bnhQipX7V8Mm"
   },
   "source": [
    "### Random Forest - Breast"
   ]
  },
  {
   "cell_type": "code",
   "execution_count": null,
   "metadata": {
    "id": "j8Jaf9RQVZC_"
   },
   "outputs": [],
   "source": [
    "modelo_breast_rf = RandomForestClassifier(n_estimators = 220, random_state=0)"
   ]
  },
  {
   "cell_type": "code",
   "execution_count": null,
   "metadata": {
    "colab": {
     "base_uri": "https://localhost:8080/",
     "height": 80
    },
    "id": "xNwcyJcIWFlo",
    "outputId": "08dd2b28-b5a9-4e25-d8d3-e9b48b5c60fa"
   },
   "outputs": [],
   "source": [
    "modelo_breast_rf.fit(X_train_breast, y_train_breast)"
   ]
  },
  {
   "cell_type": "code",
   "execution_count": null,
   "metadata": {
    "id": "VW485paBWH3Q"
   },
   "outputs": [],
   "source": [
    "y_preds_breast_rf = modelo_breast_rf.predict(X_test_breast)"
   ]
  },
  {
   "cell_type": "code",
   "execution_count": null,
   "metadata": {
    "id": "Eg2Y1JuhWKkA"
   },
   "outputs": [],
   "source": [
    "accuracy_breast_rf = accuracy_score(y_test_breast, y_preds_breast_rf)"
   ]
  },
  {
   "cell_type": "code",
   "execution_count": null,
   "metadata": {
    "colab": {
     "base_uri": "https://localhost:8080/"
    },
    "id": "WbT81azXWQZC",
    "outputId": "c92e7b5c-ec6c-4bbb-911a-0ac4db8c68f8"
   },
   "outputs": [],
   "source": [
    "print(f'Acurácia do modelo Random Forest: {accuracy_breast_rf}')"
   ]
  },
  {
   "cell_type": "markdown",
   "metadata": {
    "id": "mvzw8tOxWWFe"
   },
   "source": [
    "### Regressão Logística - Breast"
   ]
  },
  {
   "cell_type": "code",
   "execution_count": null,
   "metadata": {
    "id": "G2iLbTeGWVW_"
   },
   "outputs": [],
   "source": [
    "modelo_breast_rl = LogisticRegression(random_state=0)"
   ]
  },
  {
   "cell_type": "code",
   "execution_count": null,
   "metadata": {
    "colab": {
     "base_uri": "https://localhost:8080/",
     "height": 238
    },
    "id": "HOBvQfhBWudb",
    "outputId": "182105a7-32e8-41f3-9a6d-fa6d1a3e89ab"
   },
   "outputs": [],
   "source": [
    "modelo_breast_rl.fit(X_train_breast, y_train_breast)"
   ]
  },
  {
   "cell_type": "code",
   "execution_count": null,
   "metadata": {
    "id": "eCdKK67-WygL"
   },
   "outputs": [],
   "source": [
    "y_preds_breast_rl = modelo_breast_rl.predict(X_test_breast)"
   ]
  },
  {
   "cell_type": "code",
   "execution_count": null,
   "metadata": {
    "id": "3Dzv_biZW30k"
   },
   "outputs": [],
   "source": [
    "accuracy_breast_rl = accuracy_score(y_test_breast, y_preds_breast_rl)"
   ]
  },
  {
   "cell_type": "code",
   "execution_count": null,
   "metadata": {
    "colab": {
     "base_uri": "https://localhost:8080/"
    },
    "id": "jVjDO0D8W-BK",
    "outputId": "45a507cd-5b98-4d1b-fb61-6c98ba20b1c3"
   },
   "outputs": [],
   "source": [
    "print(f'Acurácia do modelo Regressão Logística: {accuracy_breast_rl}')"
   ]
  },
  {
   "cell_type": "code",
   "execution_count": null,
   "metadata": {
    "colab": {
     "base_uri": "https://localhost:8080/"
    },
    "id": "vt6HVpspXEbw",
    "outputId": "c0e30d80-ebe5-4330-fc71-6657148debd0"
   },
   "outputs": [],
   "source": [
    "print(classification_report(y_test_breast, y_preds_breast_rl))"
   ]
  },
  {
   "cell_type": "markdown",
   "metadata": {
    "id": "xO6fKiyJaxtG"
   },
   "source": [
    "### KNN"
   ]
  },
  {
   "cell_type": "code",
   "execution_count": null,
   "metadata": {
    "id": "MqJzLYtHarmw"
   },
   "outputs": [],
   "source": [
    "from sklearn.neighbors import KNeighborsClassifier as KNN"
   ]
  },
  {
   "cell_type": "code",
   "execution_count": null,
   "metadata": {
    "id": "MWQ93GwgbcOu"
   },
   "outputs": [],
   "source": [
    "n = 3 # Precisa ser número ímpar\n",
    "knn = KNN(n_neighbors = n)"
   ]
  },
  {
   "cell_type": "code",
   "execution_count": null,
   "metadata": {
    "colab": {
     "base_uri": "https://localhost:8080/",
     "height": 80
    },
    "id": "G-697BJIbkN-",
    "outputId": "546b0b16-01ef-4b88-db73-3ccfd2c3c175"
   },
   "outputs": [],
   "source": [
    "knn.fit(X_train_iris, y_train_iris)"
   ]
  },
  {
   "cell_type": "code",
   "execution_count": null,
   "metadata": {
    "id": "SgSv_Hu3brVO"
   },
   "outputs": [],
   "source": [
    "y_preds_knn_iris = knn.predict(X_test_iris)"
   ]
  },
  {
   "cell_type": "code",
   "execution_count": null,
   "metadata": {
    "id": "upz3NT6ibvhV"
   },
   "outputs": [],
   "source": [
    "accuracy_knn_iris = accuracy_score(y_test_iris, y_preds_knn_iris)"
   ]
  },
  {
   "cell_type": "code",
   "execution_count": null,
   "metadata": {
    "colab": {
     "base_uri": "https://localhost:8080/"
    },
    "id": "nzLAzI8ocDjQ",
    "outputId": "b53b8ba0-c34b-44b5-8714-e5804b64075b"
   },
   "outputs": [],
   "source": [
    "print(f'Acurácia do modelo KNN: {accuracy_knn_iris}')"
   ]
  },
  {
   "cell_type": "code",
   "execution_count": null,
   "metadata": {
    "colab": {
     "base_uri": "https://localhost:8080/",
     "height": 339
    },
    "id": "jUbFrIdjgilX",
    "outputId": "4b1a041f-5883-40d5-c250-f8991388c2ad"
   },
   "outputs": [],
   "source": [
    "tree.plot_tree(knn)"
   ]
  },
  {
   "cell_type": "code",
   "execution_count": null,
   "metadata": {
    "colab": {
     "base_uri": "https://localhost:8080/"
    },
    "id": "56Qhh2P2eR0D",
    "outputId": "b143b184-5b8d-4c9e-8245-588a79781148"
   },
   "outputs": [],
   "source": [
    "print('Relatório de Classificação: ')\n",
    "print(classification_report(y_test_iris, y_preds_knn_iris))\n",
    "print('Matriz de Confusão: ')\n",
    "print(confusion_matrix(y_test_iris, y_preds_knn_iris))"
   ]
  },
  {
   "cell_type": "code",
   "execution_count": null,
   "metadata": {
    "colab": {
     "base_uri": "https://localhost:8080/"
    },
    "id": "ZamV86jnea7K",
    "outputId": "b9cc7da2-4ce6-49e4-831b-40ab80842efe"
   },
   "outputs": [],
   "source": [
    "print('Relatório de Classificação: ')\n",
    "print(classification_report(y_test_breast, y_preds_breast_rl))\n",
    "print('Matriz de Confusão: ')\n",
    "print(confusion_matrix(y_test_breast, y_preds_breast_rl))"
   ]
  },
  {
   "cell_type": "code",
   "execution_count": null,
   "metadata": {
    "id": "rdWuTBgOf6Gr"
   },
   "outputs": [],
   "source": [
    "import numpy as np\n",
    "import pandas as pd\n",
    "\n",
    "from sklearn.datasets import load_breast_cancer\n",
    "from sklearn.model_selection import train_test_split"
   ]
  },
  {
   "cell_type": "code",
   "execution_count": null,
   "metadata": {
    "id": "rDX14ZIRC35A"
   },
   "outputs": [],
   "source": [
    "from sklearn.naive_bayes import GaussianNB, BernoulliNB, MultinomialNB\n",
    "from sklearn.svm import SVC"
   ]
  },
  {
   "cell_type": "code",
   "execution_count": null,
   "metadata": {
    "id": "MS_bIm53DE6M"
   },
   "outputs": [],
   "source": [
    "from sklearn.metrics import accuracy_score, classification_report, confusion_matrix"
   ]
  },
  {
   "cell_type": "code",
   "execution_count": null,
   "metadata": {
    "id": "NI3JRCCEDIxx"
   },
   "outputs": [],
   "source": [
    "import seaborn as sns\n",
    "import matplotlib.pyplot as plt"
   ]
  },
  {
   "cell_type": "code",
   "execution_count": null,
   "metadata": {
    "id": "qSmoxeh4DkfU"
   },
   "outputs": [],
   "source": [
    "breast_cancer = load_breast_cancer(as_frame=True)\n",
    "df_breast = breast_cancer.frame"
   ]
  },
  {
   "cell_type": "code",
   "execution_count": null,
   "metadata": {
    "id": "Y68JF_PRDm4j"
   },
   "outputs": [],
   "source": [
    "X_bc = df_breast.drop('target', axis=1)\n",
    "y_bc = df_breast['target']"
   ]
  },
  {
   "cell_type": "code",
   "execution_count": null,
   "metadata": {
    "id": "OER8z278Dviw"
   },
   "outputs": [],
   "source": [
    "from re import X\n",
    "# Dividir treino e teste\n",
    "X_train_bc, X_test_bc, y_train_bc, y_test_bc = train_test_split(X_bc, y_bc, test_size=0.2, random_state=0)"
   ]
  },
  {
   "cell_type": "code",
   "execution_count": null,
   "metadata": {
    "id": "BXv-Sp52EsYh"
   },
   "outputs": [],
   "source": [
    "modelos_nb = {\n",
    "    'GaussianNB': GaussianNB(),\n",
    "    'BernoulliNB': BernoulliNB(),\n",
    "    'MultinomialNB': MultinomialNB()\n",
    "}"
   ]
  },
  {
   "cell_type": "code",
   "execution_count": null,
   "metadata": {
    "id": "bxPEt1eKE20u"
   },
   "outputs": [],
   "source": [
    "modelos_svm = {\n",
    "    'SVM (Linear)': SVC(kernel='linear', C=1.0, random_state=0),\n",
    "    'SVM (RBF)': SVC(kernel='rbf', C=1.0, random_state=0),\n",
    "    'SVM (Polinômio)': SVC(kernel='poly', C=1.0, random_state=0)\n",
    "}"
   ]
  },
  {
   "cell_type": "code",
   "execution_count": null,
   "metadata": {
    "id": "YPq_WXK0FXyy"
   },
   "outputs": [],
   "source": [
    "resultados = {\n",
    "    'Modelo':[],\n",
    "    'Acurácia':[]\n",
    "}"
   ]
  },
  {
   "cell_type": "code",
   "execution_count": null,
   "metadata": {
    "colab": {
     "base_uri": "https://localhost:8080/"
    },
    "id": "q0u7n2FBFeI8",
    "outputId": "73b5b5df-efcd-4640-9382-2bc0afce7834"
   },
   "outputs": [],
   "source": [
    "for nome_modelo, modelo in modelos_nb.items():\n",
    "  modelo.fit(X_train_bc, y_train_bc)\n",
    "  y_preds_bc = modelo.predict(X_test_bc)\n",
    "  accuracy_bc = accuracy_score(y_test_bc, y_preds_bc)\n",
    "  resultados['Modelo'].append(nome_modelo)\n",
    "  resultados['Acurácia'].append(accuracy_bc)\n",
    "\n",
    "  print(f'Acurácia do modelo {nome_modelo}: {accuracy_bc}')\n",
    "  print('Relatório de Classificação: ')\n",
    "  print(classification_report(y_test_bc, y_preds_bc, zero_division=0))\n",
    "  print('Matriz de Confusão: ')\n",
    "  print(confusion_matrix(y_test_bc, y_preds_bc))\n",
    "\n",
    "for nome_modelo, modelo in modelos_svm.items():\n",
    "  modelo.fit(X_train_bc, y_train_bc)\n",
    "  y_preds_bc = modelo.predict(X_test_bc)\n",
    "  accuracy_bc = accuracy_score(y_test_bc, y_preds_bc)\n",
    "  resultados['Modelo'].append(nome_modelo)\n",
    "  resultados['Acurácia'].append(accuracy_bc)\n",
    "\n",
    "  print(f'Acurácia do modelo {nome_modelo}: {accuracy_bc}')\n",
    "  print('Relatório de Classificação: ')\n",
    "  print(classification_report(y_test_bc, y_preds_bc, zero_division=0))\n",
    "  print('Matriz de Confusão: ')\n",
    "  print(confusion_matrix(y_test_bc, y_preds_bc))"
   ]
  },
  {
   "cell_type": "code",
   "execution_count": null,
   "metadata": {
    "id": "xTYIRMsDGsg-"
   },
   "outputs": [],
   "source": [
    "df_resultados = pd.DataFrame(resultados)"
   ]
  },
  {
   "cell_type": "code",
   "execution_count": null,
   "metadata": {
    "colab": {
     "base_uri": "https://localhost:8080/"
    },
    "id": "mMdUwB4OINmq",
    "outputId": "ccff7abd-e0fd-429b-90e2-14b87c57a629"
   },
   "outputs": [],
   "source": [
    "print('\\n ============= Resumo dos Resultados =============')\n",
    "print(df_resultados)"
   ]
  },
  {
   "cell_type": "code",
   "execution_count": null,
   "metadata": {
    "id": "2Gvq90KLIcc8"
   },
   "outputs": [],
   "source": [
    "def_resultados_ = df_resultados[df_resultados[\"Acurácia\"] >=0.90].copy()"
   ]
  },
  {
   "cell_type": "code",
   "execution_count": null,
   "metadata": {},
   "outputs": [],
   "source": [
    "df_resultados_.reset_index(drop = True, inplace = True)"
   ]
  },
  {
   "cell_type": "code",
   "execution_count": null,
   "metadata": {},
   "outputs": [],
   "source": [
    "plt.figure(figsize=(10, 6))  # Corrigido o fechamento do parêntese\n",
    "sns.barplot(\n",
    "    data=df_resultados,  # Certifique-se de usar o nome correto do dataframe\n",
    "    x=\"Modelo\",\n",
    "    y=\"Acurácia\",\n",
    "    hue=\"Modelo\",\n",
    "    palette=\"viridis\"\n",
    ")\n",
    "plt.title(\"Comparação de acurácia - Naive Bayes x Support Vector Machine (Breast Cancer)\")\n",
    "for i, v in enumerate(df_resultados[\"Acurácia\"]):\n",
    "    plt.text(i, v + 0.005, f\"{v:.3f}\", ha=\"center\", fontweight=\"bold\")  # Corrigido o formato\n",
    "plt.xticks(rotation=40, ha='right')\n",
    "plt.ylim(0.90, 1.0)  # Corrigido ylim\n",
    "plt.show()"
   ]
  },
  {
   "cell_type": "code",
   "execution_count": null,
   "metadata": {},
   "outputs": [],
   "source": [
    "logistic_bc = LogisticRegression(solver = 'liblinear', random_atate = 0)"
   ]
  },
  {
   "cell_type": "code",
   "execution_count": null,
   "metadata": {},
   "outputs": [],
   "source": []
  },
  {
   "cell_type": "code",
   "execution_count": null,
   "metadata": {},
   "outputs": [],
   "source": []
  },
  {
   "cell_type": "code",
   "execution_count": null,
   "metadata": {},
   "outputs": [],
   "source": []
  },
  {
   "cell_type": "code",
   "execution_count": null,
   "metadata": {},
   "outputs": [],
   "source": [
    "####regressao"
   ]
  },
  {
   "cell_type": "code",
   "execution_count": null,
   "metadata": {},
   "outputs": [],
   "source": [
    "import numpy as np\n",
    "import pandas as pd\n",
    "\n",
    "from sklearn.datasets import fetch_california_housing\n",
    "from sklearn.tree import DecisionTreeRegressor\n",
    "from sklearn.ensemble import RandomForestRegressor\n",
    "from sklearn.linear_model import LinearRegression\n",
    "from sklearn.metrics import mean_squared_error,r2_score\n",
    "\n",
    "\n",
    "\n"
   ]
  },
  {
   "cell_type": "code",
   "execution_count": null,
   "metadata": {},
   "outputs": [],
   "source": [
    "california = fetch_california_housing(as_frame = True)\n",
    "df_cal = california.frame"
   ]
  },
  {
   "cell_type": "code",
   "execution_count": null,
   "metadata": {},
   "outputs": [],
   "source": [
    "x_cal = df_cal.drop(\"MedHouseVal\", axis = 1)\n",
    "y_cal  = df_cal[\"MedHouseVal\"]"
   ]
  },
  {
   "cell_type": "code",
   "execution_count": null,
   "metadata": {},
   "outputs": [],
   "source": [
    "x_cal.shape, y_cal.shape"
   ]
  },
  {
   "cell_type": "code",
   "execution_count": null,
   "metadata": {},
   "outputs": [],
   "source": [
    "x_train_cal, x_test_cal, y_train_cal,y_test_cal = train_test_split(\n",
    "    x_cal, y_cal,\n",
    "    test_size = 0.20,\n",
    "    random_state = 0\n",
    ")"
   ]
  },
  {
   "cell_type": "code",
   "execution_count": null,
   "metadata": {},
   "outputs": [],
   "source": [
    "lin_reg = LinearRegression()"
   ]
  },
  {
   "cell_type": "code",
   "execution_count": null,
   "metadata": {},
   "outputs": [],
   "source": [
    "lin_reg.fit(x_train_cal, y_train_cal)"
   ]
  },
  {
   "cell_type": "code",
   "execution_count": null,
   "metadata": {},
   "outputs": [],
   "source": [
    "y_preds_reg = lin_reg.predict(x_test_cal)"
   ]
  },
  {
   "cell_type": "code",
   "execution_count": null,
   "metadata": {},
   "outputs": [],
   "source": [
    "mse_lin = mean_squared_error(y_test_cal, y_preds_reg)\n",
    "r2_lin = r2_score(y_test_cal, y_preds_reg)\n",
    "\n",
    "print(\"regressoa linear\")\n",
    "print(\"mse\", mse_rf)\n",
    "print(\"r2_score\", r2_rf)"
   ]
  },
  {
   "cell_type": "code",
   "execution_count": null,
   "metadata": {},
   "outputs": [],
   "source": [
    "dt_reg = DecisionTreeRegressor(n_stimators=100, random_state = 0)\n",
    "rf_regressor.fit(x_train_cal, y_train)"
   ]
  },
  {
   "cell_type": "code",
   "execution_count": null,
   "metadata": {},
   "outputs": [],
   "source": [
    "y_presd_rf = rf_regressor.predict(x_test_cal)"
   ]
  },
  {
   "cell_type": "code",
   "execution_count": null,
   "metadata": {},
   "outputs": [],
   "source": [
    "mse_lin = mean_squared_error(y_test_cal, y_preds_reg)\n",
    "r2_lin = r2_score(y_test_cal, y_preds_reg)\n",
    "\n",
    "print(\"regressoa linear\")\n",
    "print(\"mse\", mse_rf)\n",
    "print(\"r2_score\", r2_rf)"
   ]
  },
  {
   "cell_type": "code",
   "execution_count": null,
   "metadata": {},
   "outputs": [],
   "source": []
  }
 ],
 "metadata": {
  "colab": {
   "provenance": []
  },
  "kernelspec": {
   "display_name": "Python 3 (ipykernel)",
   "language": "python",
   "name": "python3"
  },
  "language_info": {
   "codemirror_mode": {
    "name": "ipython",
    "version": 3
   },
   "file_extension": ".py",
   "mimetype": "text/x-python",
   "name": "python",
   "nbconvert_exporter": "python",
   "pygments_lexer": "ipython3",
   "version": "3.12.3"
  }
 },
 "nbformat": 4,
 "nbformat_minor": 4
}
